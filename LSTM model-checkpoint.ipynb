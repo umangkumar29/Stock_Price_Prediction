{
 "cells": [
  {
   "cell_type": "code",
   "execution_count": 1,
   "id": "ccb1943a",
   "metadata": {},
   "outputs": [
    {
     "data": {
      "text/html": [
       "        <script type=\"text/javascript\">\n",
       "        window.PlotlyConfig = {MathJaxConfig: 'local'};\n",
       "        if (window.MathJax && window.MathJax.Hub && window.MathJax.Hub.Config) {window.MathJax.Hub.Config({SVG: {font: \"STIX-Web\"}});}\n",
       "        if (typeof require !== 'undefined') {\n",
       "        require.undef(\"plotly\");\n",
       "        requirejs.config({\n",
       "            paths: {\n",
       "                'plotly': ['https://cdn.plot.ly/plotly-2.20.0.min']\n",
       "            }\n",
       "        });\n",
       "        require(['plotly'], function(Plotly) {\n",
       "            window._Plotly = Plotly;\n",
       "        });\n",
       "        }\n",
       "        </script>\n",
       "        "
      ]
     },
     "metadata": {},
     "output_type": "display_data"
    }
   ],
   "source": [
    "import pandas as pd\n",
    "import numpy as np\n",
    "\n",
    "\n",
    "import matplotlib.pyplot as plt\n",
    "import seaborn as sns \n",
    "import plotly.express as px\n",
    "import plotly.graph_objs as go\n",
    "import matplotlib.ticker as mtick\n",
    "from plotly.offline import init_notebook_mode\n",
    "init_notebook_mode(connected=True)\n",
    "\n",
    "import yfinance as yf\n",
    "import ta\n",
    "import quantstats as qs\n",
    "\n",
    "\n",
    "import warnings\n",
    "warnings.filterwarnings(\"ignore\")"
   ]
  },
  {
   "cell_type": "code",
   "execution_count": 2,
   "id": "ca9f7b4c",
   "metadata": {},
   "outputs": [
    {
     "name": "stdout",
     "output_type": "stream",
     "text": [
      "[*********************100%***********************]  1 of 1 completed\n"
     ]
    }
   ],
   "source": [
    "df = yf.download('GOOG' , end = '2023-04-2')\n"
   ]
  },
  {
   "cell_type": "code",
   "execution_count": 3,
   "id": "45537850",
   "metadata": {},
   "outputs": [
    {
     "data": {
      "text/html": [
       "<div>\n",
       "<style scoped>\n",
       "    .dataframe tbody tr th:only-of-type {\n",
       "        vertical-align: middle;\n",
       "    }\n",
       "\n",
       "    .dataframe tbody tr th {\n",
       "        vertical-align: top;\n",
       "    }\n",
       "\n",
       "    .dataframe thead th {\n",
       "        text-align: right;\n",
       "    }\n",
       "</style>\n",
       "<table border=\"1\" class=\"dataframe\">\n",
       "  <thead>\n",
       "    <tr style=\"text-align: right;\">\n",
       "      <th></th>\n",
       "      <th>Open</th>\n",
       "      <th>High</th>\n",
       "      <th>Low</th>\n",
       "      <th>Close</th>\n",
       "      <th>Adj Close</th>\n",
       "      <th>Volume</th>\n",
       "    </tr>\n",
       "    <tr>\n",
       "      <th>Date</th>\n",
       "      <th></th>\n",
       "      <th></th>\n",
       "      <th></th>\n",
       "      <th></th>\n",
       "      <th></th>\n",
       "      <th></th>\n",
       "    </tr>\n",
       "  </thead>\n",
       "  <tbody>\n",
       "    <tr>\n",
       "      <th>2004-08-19</th>\n",
       "      <td>2.490664</td>\n",
       "      <td>2.591785</td>\n",
       "      <td>2.390042</td>\n",
       "      <td>2.499133</td>\n",
       "      <td>2.499133</td>\n",
       "      <td>897427216</td>\n",
       "    </tr>\n",
       "    <tr>\n",
       "      <th>2004-08-20</th>\n",
       "      <td>2.515820</td>\n",
       "      <td>2.716817</td>\n",
       "      <td>2.503118</td>\n",
       "      <td>2.697639</td>\n",
       "      <td>2.697639</td>\n",
       "      <td>458857488</td>\n",
       "    </tr>\n",
       "    <tr>\n",
       "      <th>2004-08-23</th>\n",
       "      <td>2.758411</td>\n",
       "      <td>2.826406</td>\n",
       "      <td>2.716070</td>\n",
       "      <td>2.724787</td>\n",
       "      <td>2.724787</td>\n",
       "      <td>366857939</td>\n",
       "    </tr>\n",
       "    <tr>\n",
       "      <th>2004-08-24</th>\n",
       "      <td>2.770615</td>\n",
       "      <td>2.779581</td>\n",
       "      <td>2.579581</td>\n",
       "      <td>2.611960</td>\n",
       "      <td>2.611960</td>\n",
       "      <td>306396159</td>\n",
       "    </tr>\n",
       "    <tr>\n",
       "      <th>2004-08-25</th>\n",
       "      <td>2.614201</td>\n",
       "      <td>2.689918</td>\n",
       "      <td>2.587302</td>\n",
       "      <td>2.640104</td>\n",
       "      <td>2.640104</td>\n",
       "      <td>184645512</td>\n",
       "    </tr>\n",
       "    <tr>\n",
       "      <th>...</th>\n",
       "      <td>...</td>\n",
       "      <td>...</td>\n",
       "      <td>...</td>\n",
       "      <td>...</td>\n",
       "      <td>...</td>\n",
       "      <td>...</td>\n",
       "    </tr>\n",
       "    <tr>\n",
       "      <th>2023-03-27</th>\n",
       "      <td>105.320000</td>\n",
       "      <td>105.400002</td>\n",
       "      <td>102.629997</td>\n",
       "      <td>103.059998</td>\n",
       "      <td>103.059998</td>\n",
       "      <td>25393400</td>\n",
       "    </tr>\n",
       "    <tr>\n",
       "      <th>2023-03-28</th>\n",
       "      <td>103.000000</td>\n",
       "      <td>103.000000</td>\n",
       "      <td>100.279999</td>\n",
       "      <td>101.360001</td>\n",
       "      <td>101.360001</td>\n",
       "      <td>24913500</td>\n",
       "    </tr>\n",
       "    <tr>\n",
       "      <th>2023-03-29</th>\n",
       "      <td>102.720001</td>\n",
       "      <td>102.820000</td>\n",
       "      <td>101.029999</td>\n",
       "      <td>101.900002</td>\n",
       "      <td>101.900002</td>\n",
       "      <td>26148300</td>\n",
       "    </tr>\n",
       "    <tr>\n",
       "      <th>2023-03-30</th>\n",
       "      <td>101.440002</td>\n",
       "      <td>101.610001</td>\n",
       "      <td>100.290001</td>\n",
       "      <td>101.320000</td>\n",
       "      <td>101.320000</td>\n",
       "      <td>25009800</td>\n",
       "    </tr>\n",
       "    <tr>\n",
       "      <th>2023-03-31</th>\n",
       "      <td>101.709999</td>\n",
       "      <td>104.190002</td>\n",
       "      <td>101.440002</td>\n",
       "      <td>104.000000</td>\n",
       "      <td>104.000000</td>\n",
       "      <td>28086500</td>\n",
       "    </tr>\n",
       "  </tbody>\n",
       "</table>\n",
       "<p>4687 rows × 6 columns</p>\n",
       "</div>"
      ],
      "text/plain": [
       "                  Open        High         Low       Close   Adj Close  \\\n",
       "Date                                                                     \n",
       "2004-08-19    2.490664    2.591785    2.390042    2.499133    2.499133   \n",
       "2004-08-20    2.515820    2.716817    2.503118    2.697639    2.697639   \n",
       "2004-08-23    2.758411    2.826406    2.716070    2.724787    2.724787   \n",
       "2004-08-24    2.770615    2.779581    2.579581    2.611960    2.611960   \n",
       "2004-08-25    2.614201    2.689918    2.587302    2.640104    2.640104   \n",
       "...                ...         ...         ...         ...         ...   \n",
       "2023-03-27  105.320000  105.400002  102.629997  103.059998  103.059998   \n",
       "2023-03-28  103.000000  103.000000  100.279999  101.360001  101.360001   \n",
       "2023-03-29  102.720001  102.820000  101.029999  101.900002  101.900002   \n",
       "2023-03-30  101.440002  101.610001  100.290001  101.320000  101.320000   \n",
       "2023-03-31  101.709999  104.190002  101.440002  104.000000  104.000000   \n",
       "\n",
       "               Volume  \n",
       "Date                   \n",
       "2004-08-19  897427216  \n",
       "2004-08-20  458857488  \n",
       "2004-08-23  366857939  \n",
       "2004-08-24  306396159  \n",
       "2004-08-25  184645512  \n",
       "...               ...  \n",
       "2023-03-27   25393400  \n",
       "2023-03-28   24913500  \n",
       "2023-03-29   26148300  \n",
       "2023-03-30   25009800  \n",
       "2023-03-31   28086500  \n",
       "\n",
       "[4687 rows x 6 columns]"
      ]
     },
     "execution_count": 3,
     "metadata": {},
     "output_type": "execute_result"
    }
   ],
   "source": [
    "df"
   ]
  },
  {
   "cell_type": "code",
   "execution_count": 4,
   "id": "6d6f2b64",
   "metadata": {},
   "outputs": [
    {
     "data": {
      "text/plain": [
       "(4687, 6)"
      ]
     },
     "execution_count": 4,
     "metadata": {},
     "output_type": "execute_result"
    }
   ],
   "source": [
    "df.shape"
   ]
  },
  {
   "cell_type": "code",
   "execution_count": 5,
   "id": "22f1a74d",
   "metadata": {},
   "outputs": [
    {
     "data": {
      "text/plain": [
       "<bound method DataFrame.info of                   Open        High         Low       Close   Adj Close  \\\n",
       "Date                                                                     \n",
       "2004-08-19    2.490664    2.591785    2.390042    2.499133    2.499133   \n",
       "2004-08-20    2.515820    2.716817    2.503118    2.697639    2.697639   \n",
       "2004-08-23    2.758411    2.826406    2.716070    2.724787    2.724787   \n",
       "2004-08-24    2.770615    2.779581    2.579581    2.611960    2.611960   \n",
       "2004-08-25    2.614201    2.689918    2.587302    2.640104    2.640104   \n",
       "...                ...         ...         ...         ...         ...   \n",
       "2023-03-27  105.320000  105.400002  102.629997  103.059998  103.059998   \n",
       "2023-03-28  103.000000  103.000000  100.279999  101.360001  101.360001   \n",
       "2023-03-29  102.720001  102.820000  101.029999  101.900002  101.900002   \n",
       "2023-03-30  101.440002  101.610001  100.290001  101.320000  101.320000   \n",
       "2023-03-31  101.709999  104.190002  101.440002  104.000000  104.000000   \n",
       "\n",
       "               Volume  \n",
       "Date                   \n",
       "2004-08-19  897427216  \n",
       "2004-08-20  458857488  \n",
       "2004-08-23  366857939  \n",
       "2004-08-24  306396159  \n",
       "2004-08-25  184645512  \n",
       "...               ...  \n",
       "2023-03-27   25393400  \n",
       "2023-03-28   24913500  \n",
       "2023-03-29   26148300  \n",
       "2023-03-30   25009800  \n",
       "2023-03-31   28086500  \n",
       "\n",
       "[4687 rows x 6 columns]>"
      ]
     },
     "execution_count": 5,
     "metadata": {},
     "output_type": "execute_result"
    }
   ],
   "source": [
    "df.info"
   ]
  },
  {
   "cell_type": "code",
   "execution_count": 6,
   "id": "0d95fc70",
   "metadata": {},
   "outputs": [
    {
     "data": {
      "text/plain": [
       "Open         0\n",
       "High         0\n",
       "Low          0\n",
       "Close        0\n",
       "Adj Close    0\n",
       "Volume       0\n",
       "dtype: int64"
      ]
     },
     "execution_count": 6,
     "metadata": {},
     "output_type": "execute_result"
    }
   ],
   "source": [
    "df.isnull().sum()"
   ]
  },
  {
   "cell_type": "code",
   "execution_count": 7,
   "id": "c5b83e24",
   "metadata": {},
   "outputs": [
    {
     "data": {
      "text/html": [
       "<div>\n",
       "<style scoped>\n",
       "    .dataframe tbody tr th:only-of-type {\n",
       "        vertical-align: middle;\n",
       "    }\n",
       "\n",
       "    .dataframe tbody tr th {\n",
       "        vertical-align: top;\n",
       "    }\n",
       "\n",
       "    .dataframe thead th {\n",
       "        text-align: right;\n",
       "    }\n",
       "</style>\n",
       "<table border=\"1\" class=\"dataframe\">\n",
       "  <thead>\n",
       "    <tr style=\"text-align: right;\">\n",
       "      <th></th>\n",
       "      <th>Date</th>\n",
       "      <th>Open</th>\n",
       "      <th>High</th>\n",
       "      <th>Low</th>\n",
       "      <th>Close</th>\n",
       "      <th>Adj Close</th>\n",
       "      <th>Volume</th>\n",
       "    </tr>\n",
       "  </thead>\n",
       "  <tbody>\n",
       "    <tr>\n",
       "      <th>0</th>\n",
       "      <td>2004-08-19</td>\n",
       "      <td>2.490664</td>\n",
       "      <td>2.591785</td>\n",
       "      <td>2.390042</td>\n",
       "      <td>2.499133</td>\n",
       "      <td>2.499133</td>\n",
       "      <td>897427216</td>\n",
       "    </tr>\n",
       "    <tr>\n",
       "      <th>1</th>\n",
       "      <td>2004-08-20</td>\n",
       "      <td>2.515820</td>\n",
       "      <td>2.716817</td>\n",
       "      <td>2.503118</td>\n",
       "      <td>2.697639</td>\n",
       "      <td>2.697639</td>\n",
       "      <td>458857488</td>\n",
       "    </tr>\n",
       "    <tr>\n",
       "      <th>2</th>\n",
       "      <td>2004-08-23</td>\n",
       "      <td>2.758411</td>\n",
       "      <td>2.826406</td>\n",
       "      <td>2.716070</td>\n",
       "      <td>2.724787</td>\n",
       "      <td>2.724787</td>\n",
       "      <td>366857939</td>\n",
       "    </tr>\n",
       "    <tr>\n",
       "      <th>3</th>\n",
       "      <td>2004-08-24</td>\n",
       "      <td>2.770615</td>\n",
       "      <td>2.779581</td>\n",
       "      <td>2.579581</td>\n",
       "      <td>2.611960</td>\n",
       "      <td>2.611960</td>\n",
       "      <td>306396159</td>\n",
       "    </tr>\n",
       "    <tr>\n",
       "      <th>4</th>\n",
       "      <td>2004-08-25</td>\n",
       "      <td>2.614201</td>\n",
       "      <td>2.689918</td>\n",
       "      <td>2.587302</td>\n",
       "      <td>2.640104</td>\n",
       "      <td>2.640104</td>\n",
       "      <td>184645512</td>\n",
       "    </tr>\n",
       "    <tr>\n",
       "      <th>...</th>\n",
       "      <td>...</td>\n",
       "      <td>...</td>\n",
       "      <td>...</td>\n",
       "      <td>...</td>\n",
       "      <td>...</td>\n",
       "      <td>...</td>\n",
       "      <td>...</td>\n",
       "    </tr>\n",
       "    <tr>\n",
       "      <th>4682</th>\n",
       "      <td>2023-03-27</td>\n",
       "      <td>105.320000</td>\n",
       "      <td>105.400002</td>\n",
       "      <td>102.629997</td>\n",
       "      <td>103.059998</td>\n",
       "      <td>103.059998</td>\n",
       "      <td>25393400</td>\n",
       "    </tr>\n",
       "    <tr>\n",
       "      <th>4683</th>\n",
       "      <td>2023-03-28</td>\n",
       "      <td>103.000000</td>\n",
       "      <td>103.000000</td>\n",
       "      <td>100.279999</td>\n",
       "      <td>101.360001</td>\n",
       "      <td>101.360001</td>\n",
       "      <td>24913500</td>\n",
       "    </tr>\n",
       "    <tr>\n",
       "      <th>4684</th>\n",
       "      <td>2023-03-29</td>\n",
       "      <td>102.720001</td>\n",
       "      <td>102.820000</td>\n",
       "      <td>101.029999</td>\n",
       "      <td>101.900002</td>\n",
       "      <td>101.900002</td>\n",
       "      <td>26148300</td>\n",
       "    </tr>\n",
       "    <tr>\n",
       "      <th>4685</th>\n",
       "      <td>2023-03-30</td>\n",
       "      <td>101.440002</td>\n",
       "      <td>101.610001</td>\n",
       "      <td>100.290001</td>\n",
       "      <td>101.320000</td>\n",
       "      <td>101.320000</td>\n",
       "      <td>25009800</td>\n",
       "    </tr>\n",
       "    <tr>\n",
       "      <th>4686</th>\n",
       "      <td>2023-03-31</td>\n",
       "      <td>101.709999</td>\n",
       "      <td>104.190002</td>\n",
       "      <td>101.440002</td>\n",
       "      <td>104.000000</td>\n",
       "      <td>104.000000</td>\n",
       "      <td>28086500</td>\n",
       "    </tr>\n",
       "  </tbody>\n",
       "</table>\n",
       "<p>4687 rows × 7 columns</p>\n",
       "</div>"
      ],
      "text/plain": [
       "           Date        Open        High         Low       Close   Adj Close  \\\n",
       "0    2004-08-19    2.490664    2.591785    2.390042    2.499133    2.499133   \n",
       "1    2004-08-20    2.515820    2.716817    2.503118    2.697639    2.697639   \n",
       "2    2004-08-23    2.758411    2.826406    2.716070    2.724787    2.724787   \n",
       "3    2004-08-24    2.770615    2.779581    2.579581    2.611960    2.611960   \n",
       "4    2004-08-25    2.614201    2.689918    2.587302    2.640104    2.640104   \n",
       "...         ...         ...         ...         ...         ...         ...   \n",
       "4682 2023-03-27  105.320000  105.400002  102.629997  103.059998  103.059998   \n",
       "4683 2023-03-28  103.000000  103.000000  100.279999  101.360001  101.360001   \n",
       "4684 2023-03-29  102.720001  102.820000  101.029999  101.900002  101.900002   \n",
       "4685 2023-03-30  101.440002  101.610001  100.290001  101.320000  101.320000   \n",
       "4686 2023-03-31  101.709999  104.190002  101.440002  104.000000  104.000000   \n",
       "\n",
       "         Volume  \n",
       "0     897427216  \n",
       "1     458857488  \n",
       "2     366857939  \n",
       "3     306396159  \n",
       "4     184645512  \n",
       "...         ...  \n",
       "4682   25393400  \n",
       "4683   24913500  \n",
       "4684   26148300  \n",
       "4685   25009800  \n",
       "4686   28086500  \n",
       "\n",
       "[4687 rows x 7 columns]"
      ]
     },
     "execution_count": 7,
     "metadata": {},
     "output_type": "execute_result"
    }
   ],
   "source": [
    "df = df.reset_index()\n",
    "df"
   ]
  },
  {
   "cell_type": "code",
   "execution_count": 8,
   "id": "f5481040",
   "metadata": {},
   "outputs": [
    {
     "data": {
      "text/html": [
       "<div>\n",
       "<style scoped>\n",
       "    .dataframe tbody tr th:only-of-type {\n",
       "        vertical-align: middle;\n",
       "    }\n",
       "\n",
       "    .dataframe tbody tr th {\n",
       "        vertical-align: top;\n",
       "    }\n",
       "\n",
       "    .dataframe thead th {\n",
       "        text-align: right;\n",
       "    }\n",
       "</style>\n",
       "<table border=\"1\" class=\"dataframe\">\n",
       "  <thead>\n",
       "    <tr style=\"text-align: right;\">\n",
       "      <th></th>\n",
       "      <th>Date</th>\n",
       "      <th>Open</th>\n",
       "      <th>High</th>\n",
       "      <th>Low</th>\n",
       "      <th>Close</th>\n",
       "      <th>Adj Close</th>\n",
       "      <th>Volume</th>\n",
       "    </tr>\n",
       "  </thead>\n",
       "  <tbody>\n",
       "    <tr>\n",
       "      <th>0</th>\n",
       "      <td>2004-08-19</td>\n",
       "      <td>2.490664</td>\n",
       "      <td>2.591785</td>\n",
       "      <td>2.390042</td>\n",
       "      <td>2.499133</td>\n",
       "      <td>2.499133</td>\n",
       "      <td>897427216</td>\n",
       "    </tr>\n",
       "    <tr>\n",
       "      <th>1</th>\n",
       "      <td>2004-08-20</td>\n",
       "      <td>2.515820</td>\n",
       "      <td>2.716817</td>\n",
       "      <td>2.503118</td>\n",
       "      <td>2.697639</td>\n",
       "      <td>2.697639</td>\n",
       "      <td>458857488</td>\n",
       "    </tr>\n",
       "    <tr>\n",
       "      <th>2</th>\n",
       "      <td>2004-08-23</td>\n",
       "      <td>2.758411</td>\n",
       "      <td>2.826406</td>\n",
       "      <td>2.716070</td>\n",
       "      <td>2.724787</td>\n",
       "      <td>2.724787</td>\n",
       "      <td>366857939</td>\n",
       "    </tr>\n",
       "    <tr>\n",
       "      <th>3</th>\n",
       "      <td>2004-08-24</td>\n",
       "      <td>2.770615</td>\n",
       "      <td>2.779581</td>\n",
       "      <td>2.579581</td>\n",
       "      <td>2.611960</td>\n",
       "      <td>2.611960</td>\n",
       "      <td>306396159</td>\n",
       "    </tr>\n",
       "    <tr>\n",
       "      <th>4</th>\n",
       "      <td>2004-08-25</td>\n",
       "      <td>2.614201</td>\n",
       "      <td>2.689918</td>\n",
       "      <td>2.587302</td>\n",
       "      <td>2.640104</td>\n",
       "      <td>2.640104</td>\n",
       "      <td>184645512</td>\n",
       "    </tr>\n",
       "  </tbody>\n",
       "</table>\n",
       "</div>"
      ],
      "text/plain": [
       "        Date      Open      High       Low     Close  Adj Close     Volume\n",
       "0 2004-08-19  2.490664  2.591785  2.390042  2.499133   2.499133  897427216\n",
       "1 2004-08-20  2.515820  2.716817  2.503118  2.697639   2.697639  458857488\n",
       "2 2004-08-23  2.758411  2.826406  2.716070  2.724787   2.724787  366857939\n",
       "3 2004-08-24  2.770615  2.779581  2.579581  2.611960   2.611960  306396159\n",
       "4 2004-08-25  2.614201  2.689918  2.587302  2.640104   2.640104  184645512"
      ]
     },
     "execution_count": 8,
     "metadata": {},
     "output_type": "execute_result"
    }
   ],
   "source": [
    "df.head()"
   ]
  },
  {
   "cell_type": "code",
   "execution_count": 9,
   "id": "1f140a6d",
   "metadata": {},
   "outputs": [
    {
     "name": "stdout",
     "output_type": "stream",
     "text": [
      "Index(['Date', 'Open', 'High', 'Low', 'Close', 'Adj Close', 'Volume'], dtype='object')\n"
     ]
    }
   ],
   "source": [
    "print(df.columns)"
   ]
  },
  {
   "cell_type": "code",
   "execution_count": 10,
   "id": "d4a20561",
   "metadata": {},
   "outputs": [],
   "source": [
    "df = df.drop(['Adj Close'] , axis= 1)"
   ]
  },
  {
   "cell_type": "code",
   "execution_count": 72,
   "id": "a4c4fb99",
   "metadata": {},
   "outputs": [],
   "source": [
    "df.head()\n",
    "df = df.drop(['Date'] , axis=1)"
   ]
  },
  {
   "cell_type": "code",
   "execution_count": 73,
   "id": "be0caf6a",
   "metadata": {},
   "outputs": [
    {
     "data": {
      "text/html": [
       "<div>\n",
       "<style scoped>\n",
       "    .dataframe tbody tr th:only-of-type {\n",
       "        vertical-align: middle;\n",
       "    }\n",
       "\n",
       "    .dataframe tbody tr th {\n",
       "        vertical-align: top;\n",
       "    }\n",
       "\n",
       "    .dataframe thead th {\n",
       "        text-align: right;\n",
       "    }\n",
       "</style>\n",
       "<table border=\"1\" class=\"dataframe\">\n",
       "  <thead>\n",
       "    <tr style=\"text-align: right;\">\n",
       "      <th></th>\n",
       "      <th>Open</th>\n",
       "      <th>High</th>\n",
       "      <th>Low</th>\n",
       "      <th>Close</th>\n",
       "      <th>Volume</th>\n",
       "    </tr>\n",
       "  </thead>\n",
       "  <tbody>\n",
       "    <tr>\n",
       "      <th>0</th>\n",
       "      <td>2.490664</td>\n",
       "      <td>2.591785</td>\n",
       "      <td>2.390042</td>\n",
       "      <td>2.499133</td>\n",
       "      <td>897427216</td>\n",
       "    </tr>\n",
       "    <tr>\n",
       "      <th>1</th>\n",
       "      <td>2.515820</td>\n",
       "      <td>2.716817</td>\n",
       "      <td>2.503118</td>\n",
       "      <td>2.697639</td>\n",
       "      <td>458857488</td>\n",
       "    </tr>\n",
       "    <tr>\n",
       "      <th>2</th>\n",
       "      <td>2.758411</td>\n",
       "      <td>2.826406</td>\n",
       "      <td>2.716070</td>\n",
       "      <td>2.724787</td>\n",
       "      <td>366857939</td>\n",
       "    </tr>\n",
       "    <tr>\n",
       "      <th>3</th>\n",
       "      <td>2.770615</td>\n",
       "      <td>2.779581</td>\n",
       "      <td>2.579581</td>\n",
       "      <td>2.611960</td>\n",
       "      <td>306396159</td>\n",
       "    </tr>\n",
       "    <tr>\n",
       "      <th>4</th>\n",
       "      <td>2.614201</td>\n",
       "      <td>2.689918</td>\n",
       "      <td>2.587302</td>\n",
       "      <td>2.640104</td>\n",
       "      <td>184645512</td>\n",
       "    </tr>\n",
       "  </tbody>\n",
       "</table>\n",
       "</div>"
      ],
      "text/plain": [
       "       Open      High       Low     Close     Volume\n",
       "0  2.490664  2.591785  2.390042  2.499133  897427216\n",
       "1  2.515820  2.716817  2.503118  2.697639  458857488\n",
       "2  2.758411  2.826406  2.716070  2.724787  366857939\n",
       "3  2.770615  2.779581  2.579581  2.611960  306396159\n",
       "4  2.614201  2.689918  2.587302  2.640104  184645512"
      ]
     },
     "execution_count": 73,
     "metadata": {},
     "output_type": "execute_result"
    }
   ],
   "source": [
    "df.head()"
   ]
  },
  {
   "cell_type": "code",
   "execution_count": 13,
   "id": "369bc1fa",
   "metadata": {},
   "outputs": [
    {
     "data": {
      "image/png": "[encoded data removed]",
      "text/plain": [
       "<Figure size 1152x576 with 1 Axes>"
      ]
     },
     "metadata": {},
     "output_type": "display_data"
    }
   ],
   "source": [
    "plt.style.use('dark_background')\n",
    "plt.figure(figsize=(16,8))\n",
    "plt.title('Opening Price')\n",
    "plt.plot(df['Open'])\n",
    "plt.xlabel('Date', fontsize=18)\n",
    "plt.ylabel('Open Price USD ($)', fontsize=18)\n",
    "plt.show()"
   ]
  },
  {
   "cell_type": "code",
   "execution_count": 14,
   "id": "7f06bdfa",
   "metadata": {},
   "outputs": [
    {
     "data": {
      "image/png": "[encoded data removed]",
      "text/plain": [
       "<Figure size 1152x576 with 1 Axes>"
      ]
     },
     "metadata": {},
     "output_type": "display_data"
    }
   ],
   "source": [
    "plt.style.use('dark_background')\n",
    "plt.figure(figsize=(16,8))\n",
    "plt.title('Closing Price')\n",
    "plt.plot(df['Close'])\n",
    "plt.xlabel('Date', fontsize=18)\n",
    "plt.ylabel('Close Price USD ($)', fontsize=18)\n",
    "plt.show()"
   ]
  },
  {
   "cell_type": "code",
   "execution_count": 15,
   "id": "58d1d0ed",
   "metadata": {},
   "outputs": [
    {
     "data": {
      "text/plain": [
       "0             NaN\n",
       "1             NaN\n",
       "2             NaN\n",
       "3             NaN\n",
       "4             NaN\n",
       "          ...    \n",
       "4682    97.757613\n",
       "4683    97.670280\n",
       "4684    97.592946\n",
       "4685    97.506213\n",
       "4686    97.416613\n",
       "Name: Open, Length: 4687, dtype: float64"
      ]
     },
     "execution_count": 15,
     "metadata": {},
     "output_type": "execute_result"
    }
   ],
   "source": [
    "##Creating moving averages\n",
    "ma150 = df.Open.rolling(150).mean()\n",
    "ma150"
   ]
  },
  {
   "cell_type": "code",
   "execution_count": 16,
   "id": "12bb1f23",
   "metadata": {},
   "outputs": [
    {
     "data": {
      "image/png": "[encoded data removed]",
      "text/plain": [
       "<Figure size 1080x432 with 1 Axes>"
      ]
     },
     "metadata": {},
     "output_type": "display_data"
    }
   ],
   "source": [
    "plt.figure(figsize = (15,6))\n",
    "plt.plot(df.Open)\n",
    "plt.plot(ma150 , 'brown')\n",
    "plt.show()"
   ]
  },
  {
   "cell_type": "code",
   "execution_count": 17,
   "id": "fc28dc86",
   "metadata": {},
   "outputs": [
    {
     "data": {
      "text/plain": [
       "0             NaN\n",
       "1             NaN\n",
       "2             NaN\n",
       "3             NaN\n",
       "4             NaN\n",
       "          ...    \n",
       "4682    97.757613\n",
       "4683    97.670280\n",
       "4684    97.592946\n",
       "4685    97.506213\n",
       "4686    97.416613\n",
       "Name: Open, Length: 4687, dtype: float64"
      ]
     },
     "execution_count": 17,
     "metadata": {},
     "output_type": "execute_result"
    }
   ],
   "source": [
    "ma300 = df.Open.rolling(300).mean()\n",
    "ma150"
   ]
  },
  {
   "cell_type": "code",
   "execution_count": 18,
   "id": "41af2782",
   "metadata": {},
   "outputs": [
    {
     "data": {
      "image/png": "[encoded data removed]",
      "text/plain": [
       "<Figure size 1080x432 with 1 Axes>"
      ]
     },
     "metadata": {},
     "output_type": "display_data"
    }
   ],
   "source": [
    "plt.figure(figsize = (15,6))\n",
    "plt.plot(df.Open)\n",
    "plt.plot(ma150 , 'orange')\n",
    "plt.plot(ma300 , 'brown')\n",
    "plt.show()"
   ]
  },
  {
   "cell_type": "code",
   "execution_count": 19,
   "id": "bf8f8dfa",
   "metadata": {},
   "outputs": [
    {
     "name": "stdout",
     "output_type": "stream",
     "text": [
      "(3280, 1)\n",
      "(1407, 1)\n"
     ]
    }
   ],
   "source": [
    "## Spliting our data\n",
    "training_data = pd.DataFrame(df['Open'][0 : int(len(df)*.70)])\n",
    "testing_data = pd.DataFrame(df['Open'][int(len(df)*.70) : int(len(df))])\n",
    "\n",
    "print(training_data.shape)\n",
    "print(testing_data.shape)"
   ]
  },
  {
   "cell_type": "code",
   "execution_count": 20,
   "id": "9ee5d0bd",
   "metadata": {},
   "outputs": [
    {
     "data": {
      "text/html": [
       "<div>\n",
       "<style scoped>\n",
       "    .dataframe tbody tr th:only-of-type {\n",
       "        vertical-align: middle;\n",
       "    }\n",
       "\n",
       "    .dataframe tbody tr th {\n",
       "        vertical-align: top;\n",
       "    }\n",
       "\n",
       "    .dataframe thead th {\n",
       "        text-align: right;\n",
       "    }\n",
       "</style>\n",
       "<table border=\"1\" class=\"dataframe\">\n",
       "  <thead>\n",
       "    <tr style=\"text-align: right;\">\n",
       "      <th></th>\n",
       "      <th>Open</th>\n",
       "    </tr>\n",
       "  </thead>\n",
       "  <tbody>\n",
       "    <tr>\n",
       "      <th>0</th>\n",
       "      <td>2.490664</td>\n",
       "    </tr>\n",
       "    <tr>\n",
       "      <th>1</th>\n",
       "      <td>2.515820</td>\n",
       "    </tr>\n",
       "    <tr>\n",
       "      <th>2</th>\n",
       "      <td>2.758411</td>\n",
       "    </tr>\n",
       "    <tr>\n",
       "      <th>3</th>\n",
       "      <td>2.770615</td>\n",
       "    </tr>\n",
       "    <tr>\n",
       "      <th>4</th>\n",
       "      <td>2.614201</td>\n",
       "    </tr>\n",
       "  </tbody>\n",
       "</table>\n",
       "</div>"
      ],
      "text/plain": [
       "       Open\n",
       "0  2.490664\n",
       "1  2.515820\n",
       "2  2.758411\n",
       "3  2.770615\n",
       "4  2.614201"
      ]
     },
     "execution_count": 20,
     "metadata": {},
     "output_type": "execute_result"
    }
   ],
   "source": [
    "training_data.head()"
   ]
  },
  {
   "cell_type": "code",
   "execution_count": 21,
   "id": "02958acc",
   "metadata": {},
   "outputs": [
    {
     "data": {
      "text/html": [
       "<div>\n",
       "<style scoped>\n",
       "    .dataframe tbody tr th:only-of-type {\n",
       "        vertical-align: middle;\n",
       "    }\n",
       "\n",
       "    .dataframe tbody tr th {\n",
       "        vertical-align: top;\n",
       "    }\n",
       "\n",
       "    .dataframe thead th {\n",
       "        text-align: right;\n",
       "    }\n",
       "</style>\n",
       "<table border=\"1\" class=\"dataframe\">\n",
       "  <thead>\n",
       "    <tr style=\"text-align: right;\">\n",
       "      <th></th>\n",
       "      <th>Open</th>\n",
       "    </tr>\n",
       "  </thead>\n",
       "  <tbody>\n",
       "    <tr>\n",
       "      <th>3280</th>\n",
       "      <td>45.255001</td>\n",
       "    </tr>\n",
       "    <tr>\n",
       "      <th>3281</th>\n",
       "      <td>46.002499</td>\n",
       "    </tr>\n",
       "    <tr>\n",
       "      <th>3282</th>\n",
       "      <td>46.588001</td>\n",
       "    </tr>\n",
       "    <tr>\n",
       "      <th>3283</th>\n",
       "      <td>47.056499</td>\n",
       "    </tr>\n",
       "    <tr>\n",
       "      <th>3284</th>\n",
       "      <td>46.653999</td>\n",
       "    </tr>\n",
       "  </tbody>\n",
       "</table>\n",
       "</div>"
      ],
      "text/plain": [
       "           Open\n",
       "3280  45.255001\n",
       "3281  46.002499\n",
       "3282  46.588001\n",
       "3283  47.056499\n",
       "3284  46.653999"
      ]
     },
     "execution_count": 21,
     "metadata": {},
     "output_type": "execute_result"
    }
   ],
   "source": [
    "testing_data.head()"
   ]
  },
  {
   "cell_type": "code",
   "execution_count": 22,
   "id": "e4e37047",
   "metadata": {},
   "outputs": [
    {
     "data": {
      "text/html": [
       "<div>\n",
       "<style scoped>\n",
       "    .dataframe tbody tr th:only-of-type {\n",
       "        vertical-align: middle;\n",
       "    }\n",
       "\n",
       "    .dataframe tbody tr th {\n",
       "        vertical-align: top;\n",
       "    }\n",
       "\n",
       "    .dataframe thead th {\n",
       "        text-align: right;\n",
       "    }\n",
       "</style>\n",
       "<table border=\"1\" class=\"dataframe\">\n",
       "  <thead>\n",
       "    <tr style=\"text-align: right;\">\n",
       "      <th></th>\n",
       "      <th>Open</th>\n",
       "    </tr>\n",
       "  </thead>\n",
       "  <tbody>\n",
       "    <tr>\n",
       "      <th>0</th>\n",
       "      <td>2.490664</td>\n",
       "    </tr>\n",
       "    <tr>\n",
       "      <th>1</th>\n",
       "      <td>2.515820</td>\n",
       "    </tr>\n",
       "    <tr>\n",
       "      <th>2</th>\n",
       "      <td>2.758411</td>\n",
       "    </tr>\n",
       "    <tr>\n",
       "      <th>3</th>\n",
       "      <td>2.770615</td>\n",
       "    </tr>\n",
       "    <tr>\n",
       "      <th>4</th>\n",
       "      <td>2.614201</td>\n",
       "    </tr>\n",
       "    <tr>\n",
       "      <th>...</th>\n",
       "      <td>...</td>\n",
       "    </tr>\n",
       "    <tr>\n",
       "      <th>3275</th>\n",
       "      <td>45.636002</td>\n",
       "    </tr>\n",
       "    <tr>\n",
       "      <th>3276</th>\n",
       "      <td>46.096500</td>\n",
       "    </tr>\n",
       "    <tr>\n",
       "      <th>3277</th>\n",
       "      <td>46.432999</td>\n",
       "    </tr>\n",
       "    <tr>\n",
       "      <th>3278</th>\n",
       "      <td>46.174500</td>\n",
       "    </tr>\n",
       "    <tr>\n",
       "      <th>3279</th>\n",
       "      <td>45.799999</td>\n",
       "    </tr>\n",
       "  </tbody>\n",
       "</table>\n",
       "<p>3280 rows × 1 columns</p>\n",
       "</div>"
      ],
      "text/plain": [
       "           Open\n",
       "0      2.490664\n",
       "1      2.515820\n",
       "2      2.758411\n",
       "3      2.770615\n",
       "4      2.614201\n",
       "...         ...\n",
       "3275  45.636002\n",
       "3276  46.096500\n",
       "3277  46.432999\n",
       "3278  46.174500\n",
       "3279  45.799999\n",
       "\n",
       "[3280 rows x 1 columns]"
      ]
     },
     "execution_count": 22,
     "metadata": {},
     "output_type": "execute_result"
    }
   ],
   "source": [
    "training_data"
   ]
  },
  {
   "cell_type": "code",
   "execution_count": 23,
   "id": "ba60f6a4",
   "metadata": {},
   "outputs": [],
   "source": [
    "from sklearn.preprocessing import MinMaxScaler\n",
    "scaler = MinMaxScaler(feature_range=(0,1))\n",
    "training_data_arr = scaler.fit_transform(training_data)\n",
    "testing_data_arr = scaler.fit_transform(testing_data)"
   ]
  },
  {
   "cell_type": "code",
   "execution_count": 24,
   "id": "bd83dc4f",
   "metadata": {},
   "outputs": [
    {
     "data": {
      "text/plain": [
       "array([[4.31488366e-04],\n",
       "       [9.69533187e-04],\n",
       "       [6.15814306e-03],\n",
       "       ...,\n",
       "       [9.40283838e-01],\n",
       "       [9.34754977e-01],\n",
       "       [9.26745049e-01]])"
      ]
     },
     "execution_count": 24,
     "metadata": {},
     "output_type": "execute_result"
    }
   ],
   "source": [
    "training_data_arr"
   ]
  },
  {
   "cell_type": "code",
   "execution_count": 25,
   "id": "ea78fe82",
   "metadata": {},
   "outputs": [
    {
     "data": {
      "text/plain": [
       "array([[0.        ],\n",
       "       [0.00701161],\n",
       "       [0.0125037 ],\n",
       "       ...,\n",
       "       [0.53902835],\n",
       "       [0.52702181],\n",
       "       [0.52955441]])"
      ]
     },
     "execution_count": 25,
     "metadata": {},
     "output_type": "execute_result"
    }
   ],
   "source": [
    "testing_data_arr"
   ]
  },
  {
   "cell_type": "code",
   "execution_count": 26,
   "id": "9dc1f13e",
   "metadata": {},
   "outputs": [
    {
     "data": {
      "text/plain": [
       "(3280, 1)"
      ]
     },
     "execution_count": 26,
     "metadata": {},
     "output_type": "execute_result"
    }
   ],
   "source": [
    "training_data_arr.shape"
   ]
  },
  {
   "cell_type": "code",
   "execution_count": 27,
   "id": "f6f79cea",
   "metadata": {},
   "outputs": [],
   "source": [
    "X_train = []\n",
    "Y_train = []\n",
    "for i in range(150 , training_data_arr.shape[0]):\n",
    "    X_train.append(training_data_arr[i-150:i])\n",
    "    Y_train.append(training_data_arr[i,0])\n",
    "    \n"
   ]
  },
  {
   "cell_type": "code",
   "execution_count": 30,
   "id": "65417451",
   "metadata": {},
   "outputs": [],
   "source": [
    "X_train , Y_train = np.array(X_train) , np.array(Y_train)"
   ]
  },
  {
   "cell_type": "code",
   "execution_count": 31,
   "id": "514d61da",
   "metadata": {},
   "outputs": [],
   "source": [
    "from keras.layers import  Dense , Dropout , LSTM\n",
    "from keras.models import Sequential\n"
   ]
  },
  {
   "cell_type": "code",
   "execution_count": 33,
   "id": "411f6b64",
   "metadata": {},
   "outputs": [],
   "source": [
    "model = Sequential()\n",
    "model.add(LSTM(units = 50 , activation = 'relu' , return_sequences = True , input_shape = (X_train.shape[1], 1)))\n",
    "model.add(Dropout(0.2))\n",
    "\n",
    "\n",
    "\n",
    "model.add(LSTM(units = 60 , activation = 'relu' , return_sequences = True))\n",
    "model.add(Dropout(0.3))\n",
    "\n",
    "\n",
    "model.add(LSTM(units = 80 , activation = 'relu' , return_sequences = True))\n",
    "model.add(Dropout(0.4))\n",
    "\n",
    "          \n",
    "\n",
    "model.add(LSTM(units = 120 , activation = 'relu' ))\n",
    "model.add(Dropout(0.5))\n",
    "\n",
    "model.add(Dense(units = 1))"
   ]
  },
  {
   "cell_type": "code",
   "execution_count": 34,
   "id": "36c0f757",
   "metadata": {},
   "outputs": [
    {
     "name": "stdout",
     "output_type": "stream",
     "text": [
      "Model: \"sequential\"\n",
      "_________________________________________________________________\n",
      " Layer (type)                Output Shape              Param #   \n",
      "=================================================================\n",
      " lstm (LSTM)                 (None, 150, 50)           10400     \n",
      "                                                                 \n",
      " dropout (Dropout)           (None, 150, 50)           0         \n",
      "                                                                 \n",
      " lstm_1 (LSTM)               (None, 150, 60)           26640     \n",
      "                                                                 \n",
      " dropout_1 (Dropout)         (None, 150, 60)           0         \n",
      "                                                                 \n",
      " lstm_2 (LSTM)               (None, 150, 80)           45120     \n",
      "                                                                 \n",
      " dropout_2 (Dropout)         (None, 150, 80)           0         \n",
      "                                                                 \n",
      " lstm_3 (LSTM)               (None, 120)               96480     \n",
      "                                                                 \n",
      " dropout_3 (Dropout)         (None, 120)               0         \n",
      "                                                                 \n",
      " dense (Dense)               (None, 1)                 121       \n",
      "                                                                 \n",
      "=================================================================\n",
      "Total params: 178,761\n",
      "Trainable params: 178,761\n",
      "Non-trainable params: 0\n",
      "_________________________________________________________________\n"
     ]
    }
   ],
   "source": [
    "model.summary()"
   ]
  },
  {
   "cell_type": "code",
   "execution_count": 35,
   "id": "9719a539",
   "metadata": {},
   "outputs": [
    {
     "name": "stdout",
     "output_type": "stream",
     "text": [
      "Epoch 1/50\n",
      "98/98 [==============================] - 75s 657ms/step - loss: 0.0219\n",
      "Epoch 2/50\n",
      "98/98 [==============================] - 60s 614ms/step - loss: 0.0052\n",
      "Epoch 3/50\n",
      "98/98 [==============================] - 65s 664ms/step - loss: 0.0044\n",
      "Epoch 4/50\n",
      "98/98 [==============================] - 66s 676ms/step - loss: 0.0041\n",
      "Epoch 5/50\n",
      "98/98 [==============================] - 66s 669ms/step - loss: 0.0040\n",
      "Epoch 6/50\n",
      "98/98 [==============================] - 66s 670ms/step - loss: 0.0041\n",
      "Epoch 7/50\n",
      "98/98 [==============================] - 67s 681ms/step - loss: 0.0033\n",
      "Epoch 8/50\n",
      "98/98 [==============================] - 67s 685ms/step - loss: 0.0035\n",
      "Epoch 9/50\n",
      "98/98 [==============================] - 67s 683ms/step - loss: 0.0032\n",
      "Epoch 10/50\n",
      "98/98 [==============================] - 66s 678ms/step - loss: 0.0030\n",
      "Epoch 11/50\n",
      "98/98 [==============================] - 69s 700ms/step - loss: 0.0031\n",
      "Epoch 12/50\n",
      "98/98 [==============================] - 67s 684ms/step - loss: 0.0026\n",
      "Epoch 13/50\n",
      "98/98 [==============================] - 64s 656ms/step - loss: 0.0026\n",
      "Epoch 14/50\n",
      "98/98 [==============================] - 65s 665ms/step - loss: 0.0028\n",
      "Epoch 15/50\n",
      "98/98 [==============================] - 67s 680ms/step - loss: 0.0025\n",
      "Epoch 16/50\n",
      "98/98 [==============================] - 66s 679ms/step - loss: 0.0023\n",
      "Epoch 17/50\n",
      "98/98 [==============================] - 66s 668ms/step - loss: 0.0020\n",
      "Epoch 18/50\n",
      "98/98 [==============================] - 68s 692ms/step - loss: 0.0026\n",
      "Epoch 19/50\n",
      "98/98 [==============================] - 68s 697ms/step - loss: 0.0021\n",
      "Epoch 20/50\n",
      "98/98 [==============================] - 69s 700ms/step - loss: 0.0022\n",
      "Epoch 21/50\n",
      "98/98 [==============================] - 68s 691ms/step - loss: 0.0019\n",
      "Epoch 22/50\n",
      "98/98 [==============================] - 66s 668ms/step - loss: 0.0019\n",
      "Epoch 23/50\n",
      "98/98 [==============================] - 66s 678ms/step - loss: 0.0019\n",
      "Epoch 24/50\n",
      "98/98 [==============================] - 67s 688ms/step - loss: 0.0019\n",
      "Epoch 25/50\n",
      "98/98 [==============================] - 68s 690ms/step - loss: 0.0018\n",
      "Epoch 26/50\n",
      "98/98 [==============================] - 67s 682ms/step - loss: 0.0018\n",
      "Epoch 27/50\n",
      "98/98 [==============================] - 67s 686ms/step - loss: 0.0017\n",
      "Epoch 28/50\n",
      "98/98 [==============================] - 68s 696ms/step - loss: 0.0017\n",
      "Epoch 29/50\n",
      "98/98 [==============================] - 67s 684ms/step - loss: 0.0019\n",
      "Epoch 30/50\n",
      "98/98 [==============================] - 67s 685ms/step - loss: 0.0017\n",
      "Epoch 31/50\n",
      "98/98 [==============================] - 67s 686ms/step - loss: 0.0017\n",
      "Epoch 32/50\n",
      "98/98 [==============================] - 67s 679ms/step - loss: 0.0020\n",
      "Epoch 33/50\n",
      "98/98 [==============================] - 68s 691ms/step - loss: 0.0017\n",
      "Epoch 34/50\n",
      "98/98 [==============================] - 68s 697ms/step - loss: 0.0018\n",
      "Epoch 35/50\n",
      "98/98 [==============================] - 68s 691ms/step - loss: 0.0017\n",
      "Epoch 36/50\n",
      "98/98 [==============================] - 67s 685ms/step - loss: 0.0016\n",
      "Epoch 37/50\n",
      "98/98 [==============================] - 67s 682ms/step - loss: 0.0017\n",
      "Epoch 38/50\n",
      "98/98 [==============================] - 67s 683ms/step - loss: 0.0016\n",
      "Epoch 39/50\n",
      "98/98 [==============================] - 67s 682ms/step - loss: 0.0016\n",
      "Epoch 40/50\n",
      "98/98 [==============================] - 64s 651ms/step - loss: 0.0017\n",
      "Epoch 41/50\n",
      "98/98 [==============================] - 65s 663ms/step - loss: 0.0016\n",
      "Epoch 42/50\n",
      "98/98 [==============================] - 67s 681ms/step - loss: 0.0017\n",
      "Epoch 43/50\n",
      "98/98 [==============================] - 67s 684ms/step - loss: 0.0016\n",
      "Epoch 44/50\n",
      "98/98 [==============================] - 67s 683ms/step - loss: 0.0016\n",
      "Epoch 45/50\n",
      "98/98 [==============================] - 68s 693ms/step - loss: 0.0015\n",
      "Epoch 46/50\n",
      "98/98 [==============================] - 68s 691ms/step - loss: 0.0016\n",
      "Epoch 47/50\n",
      "98/98 [==============================] - 67s 685ms/step - loss: 0.0016\n",
      "Epoch 48/50\n",
      "98/98 [==============================] - 67s 683ms/step - loss: 0.0017\n",
      "Epoch 49/50\n",
      "98/98 [==============================] - 67s 687ms/step - loss: 0.0015\n",
      "Epoch 50/50\n",
      "98/98 [==============================] - 68s 698ms/step - loss: 0.0016\n"
     ]
    },
    {
     "data": {
      "text/plain": [
       "<keras.callbacks.History at 0x23109e70880>"
      ]
     },
     "execution_count": 35,
     "metadata": {},
     "output_type": "execute_result"
    }
   ],
   "source": [
    "model.compile(optimizer='adam' , loss='mean_squared_error')\n",
    "model.fit(X_train , Y_train , epochs = 50)"
   ]
  },
  {
   "cell_type": "code",
   "execution_count": 36,
   "id": "52e828dd",
   "metadata": {},
   "outputs": [],
   "source": [
    "model.save('Keras_model.h5')"
   ]
  },
  {
   "cell_type": "code",
   "execution_count": 37,
   "id": "b73c94b7",
   "metadata": {},
   "outputs": [
    {
     "data": {
      "text/html": [
       "<div>\n",
       "<style scoped>\n",
       "    .dataframe tbody tr th:only-of-type {\n",
       "        vertical-align: middle;\n",
       "    }\n",
       "\n",
       "    .dataframe tbody tr th {\n",
       "        vertical-align: top;\n",
       "    }\n",
       "\n",
       "    .dataframe thead th {\n",
       "        text-align: right;\n",
       "    }\n",
       "</style>\n",
       "<table border=\"1\" class=\"dataframe\">\n",
       "  <thead>\n",
       "    <tr style=\"text-align: right;\">\n",
       "      <th></th>\n",
       "      <th>Open</th>\n",
       "    </tr>\n",
       "  </thead>\n",
       "  <tbody>\n",
       "    <tr>\n",
       "      <th>3270</th>\n",
       "      <td>46.211498</td>\n",
       "    </tr>\n",
       "    <tr>\n",
       "      <th>3271</th>\n",
       "      <td>46.264500</td>\n",
       "    </tr>\n",
       "    <tr>\n",
       "      <th>3272</th>\n",
       "      <td>46.289001</td>\n",
       "    </tr>\n",
       "    <tr>\n",
       "      <th>3273</th>\n",
       "      <td>45.515499</td>\n",
       "    </tr>\n",
       "    <tr>\n",
       "      <th>3274</th>\n",
       "      <td>45.500000</td>\n",
       "    </tr>\n",
       "    <tr>\n",
       "      <th>3275</th>\n",
       "      <td>45.636002</td>\n",
       "    </tr>\n",
       "    <tr>\n",
       "      <th>3276</th>\n",
       "      <td>46.096500</td>\n",
       "    </tr>\n",
       "    <tr>\n",
       "      <th>3277</th>\n",
       "      <td>46.432999</td>\n",
       "    </tr>\n",
       "    <tr>\n",
       "      <th>3278</th>\n",
       "      <td>46.174500</td>\n",
       "    </tr>\n",
       "    <tr>\n",
       "      <th>3279</th>\n",
       "      <td>45.799999</td>\n",
       "    </tr>\n",
       "  </tbody>\n",
       "</table>\n",
       "</div>"
      ],
      "text/plain": [
       "           Open\n",
       "3270  46.211498\n",
       "3271  46.264500\n",
       "3272  46.289001\n",
       "3273  45.515499\n",
       "3274  45.500000\n",
       "3275  45.636002\n",
       "3276  46.096500\n",
       "3277  46.432999\n",
       "3278  46.174500\n",
       "3279  45.799999"
      ]
     },
     "execution_count": 37,
     "metadata": {},
     "output_type": "execute_result"
    }
   ],
   "source": [
    "training_data.tail(10)"
   ]
  },
  {
   "cell_type": "code",
   "execution_count": 38,
   "id": "fd870ce1",
   "metadata": {},
   "outputs": [
    {
     "data": {
      "text/html": [
       "<div>\n",
       "<style scoped>\n",
       "    .dataframe tbody tr th:only-of-type {\n",
       "        vertical-align: middle;\n",
       "    }\n",
       "\n",
       "    .dataframe tbody tr th {\n",
       "        vertical-align: top;\n",
       "    }\n",
       "\n",
       "    .dataframe thead th {\n",
       "        text-align: right;\n",
       "    }\n",
       "</style>\n",
       "<table border=\"1\" class=\"dataframe\">\n",
       "  <thead>\n",
       "    <tr style=\"text-align: right;\">\n",
       "      <th></th>\n",
       "      <th>Open</th>\n",
       "    </tr>\n",
       "  </thead>\n",
       "  <tbody>\n",
       "    <tr>\n",
       "      <th>3280</th>\n",
       "      <td>45.255001</td>\n",
       "    </tr>\n",
       "    <tr>\n",
       "      <th>3281</th>\n",
       "      <td>46.002499</td>\n",
       "    </tr>\n",
       "    <tr>\n",
       "      <th>3282</th>\n",
       "      <td>46.588001</td>\n",
       "    </tr>\n",
       "    <tr>\n",
       "      <th>3283</th>\n",
       "      <td>47.056499</td>\n",
       "    </tr>\n",
       "    <tr>\n",
       "      <th>3284</th>\n",
       "      <td>46.653999</td>\n",
       "    </tr>\n",
       "    <tr>\n",
       "      <th>3285</th>\n",
       "      <td>46.507500</td>\n",
       "    </tr>\n",
       "    <tr>\n",
       "      <th>3286</th>\n",
       "      <td>46.586498</td>\n",
       "    </tr>\n",
       "    <tr>\n",
       "      <th>3287</th>\n",
       "      <td>46.824501</td>\n",
       "    </tr>\n",
       "    <tr>\n",
       "      <th>3288</th>\n",
       "      <td>46.712502</td>\n",
       "    </tr>\n",
       "    <tr>\n",
       "      <th>3289</th>\n",
       "      <td>46.629501</td>\n",
       "    </tr>\n",
       "  </tbody>\n",
       "</table>\n",
       "</div>"
      ],
      "text/plain": [
       "           Open\n",
       "3280  45.255001\n",
       "3281  46.002499\n",
       "3282  46.588001\n",
       "3283  47.056499\n",
       "3284  46.653999\n",
       "3285  46.507500\n",
       "3286  46.586498\n",
       "3287  46.824501\n",
       "3288  46.712502\n",
       "3289  46.629501"
      ]
     },
     "execution_count": 38,
     "metadata": {},
     "output_type": "execute_result"
    }
   ],
   "source": [
    "testing_data.head(10)"
   ]
  },
  {
   "cell_type": "code",
   "execution_count": 39,
   "id": "40610461",
   "metadata": {},
   "outputs": [],
   "source": [
    "past_150_days = training_data.tail(150)"
   ]
  },
  {
   "cell_type": "code",
   "execution_count": 40,
   "id": "ced442d7",
   "metadata": {},
   "outputs": [],
   "source": [
    "final_df = past_150_days.append(testing_data , ignore_index = True)"
   ]
  },
  {
   "cell_type": "code",
   "execution_count": 41,
   "id": "be62f20a",
   "metadata": {},
   "outputs": [
    {
     "data": {
      "text/html": [
       "<div>\n",
       "<style scoped>\n",
       "    .dataframe tbody tr th:only-of-type {\n",
       "        vertical-align: middle;\n",
       "    }\n",
       "\n",
       "    .dataframe tbody tr th {\n",
       "        vertical-align: top;\n",
       "    }\n",
       "\n",
       "    .dataframe thead th {\n",
       "        text-align: right;\n",
       "    }\n",
       "</style>\n",
       "<table border=\"1\" class=\"dataframe\">\n",
       "  <thead>\n",
       "    <tr style=\"text-align: right;\">\n",
       "      <th></th>\n",
       "      <th>Open</th>\n",
       "    </tr>\n",
       "  </thead>\n",
       "  <tbody>\n",
       "    <tr>\n",
       "      <th>0</th>\n",
       "      <td>41.480999</td>\n",
       "    </tr>\n",
       "    <tr>\n",
       "      <th>1</th>\n",
       "      <td>41.890499</td>\n",
       "    </tr>\n",
       "    <tr>\n",
       "      <th>2</th>\n",
       "      <td>41.735500</td>\n",
       "    </tr>\n",
       "    <tr>\n",
       "      <th>3</th>\n",
       "      <td>40.733002</td>\n",
       "    </tr>\n",
       "    <tr>\n",
       "      <th>4</th>\n",
       "      <td>39.842999</td>\n",
       "    </tr>\n",
       "  </tbody>\n",
       "</table>\n",
       "</div>"
      ],
      "text/plain": [
       "        Open\n",
       "0  41.480999\n",
       "1  41.890499\n",
       "2  41.735500\n",
       "3  40.733002\n",
       "4  39.842999"
      ]
     },
     "execution_count": 41,
     "metadata": {},
     "output_type": "execute_result"
    }
   ],
   "source": [
    "final_df.head()"
   ]
  },
  {
   "cell_type": "code",
   "execution_count": 42,
   "id": "74e42240",
   "metadata": {},
   "outputs": [
    {
     "data": {
      "text/plain": [
       "array([[0.01596634],\n",
       "       [0.01961694],\n",
       "       [0.01823516],\n",
       "       ...,\n",
       "       [0.56189746],\n",
       "       [0.55048658],\n",
       "       [0.55289353]])"
      ]
     },
     "execution_count": 42,
     "metadata": {},
     "output_type": "execute_result"
    }
   ],
   "source": [
    "input_data = scaler.fit_transform(final_df)\n",
    "input_data"
   ]
  },
  {
   "cell_type": "code",
   "execution_count": 43,
   "id": "8c16f0dc",
   "metadata": {},
   "outputs": [
    {
     "data": {
      "text/plain": [
       "(1557, 1)"
      ]
     },
     "execution_count": 43,
     "metadata": {},
     "output_type": "execute_result"
    }
   ],
   "source": [
    "input_data.shape"
   ]
  },
  {
   "cell_type": "code",
   "execution_count": 44,
   "id": "92ad00c4",
   "metadata": {},
   "outputs": [],
   "source": [
    "X_test = []\n",
    "Y_test = []\n",
    "\n",
    "for i in range(150 , input_data.shape[0]):\n",
    "    X_test.append(input_data[i-150:i])\n",
    "    Y_test.append(input_data[i , 0])"
   ]
  },
  {
   "cell_type": "code",
   "execution_count": 45,
   "id": "75a958ab",
   "metadata": {},
   "outputs": [
    {
     "name": "stdout",
     "output_type": "stream",
     "text": [
      "(1407, 150, 1)\n",
      "(1407,)\n"
     ]
    }
   ],
   "source": [
    "X_test , Y_test = np.array(X_test) , np.array(Y_test)\n",
    "print(X_test.shape)\n",
    "print(Y_test.shape)"
   ]
  },
  {
   "cell_type": "code",
   "execution_count": 46,
   "id": "fb70dc21",
   "metadata": {},
   "outputs": [
    {
     "name": "stdout",
     "output_type": "stream",
     "text": [
      "44/44 [==============================] - 11s 212ms/step\n"
     ]
    }
   ],
   "source": [
    "y_predicted = model.predict(X_test)"
   ]
  },
  {
   "cell_type": "code",
   "execution_count": 47,
   "id": "23784482",
   "metadata": {},
   "outputs": [
    {
     "data": {
      "text/plain": [
       "(1407, 1)"
      ]
     },
     "execution_count": 47,
     "metadata": {},
     "output_type": "execute_result"
    }
   ],
   "source": [
    "y_predicted.shape"
   ]
  },
  {
   "cell_type": "code",
   "execution_count": 48,
   "id": "21138a03",
   "metadata": {},
   "outputs": [
    {
     "data": {
      "text/plain": [
       "array([0.04961067, 0.05627443, 0.06149405, ..., 0.56189746, 0.55048658,\n",
       "       0.55289353])"
      ]
     },
     "execution_count": 48,
     "metadata": {},
     "output_type": "execute_result"
    }
   ],
   "source": [
    "Y_test"
   ]
  },
  {
   "cell_type": "code",
   "execution_count": 49,
   "id": "141d3312",
   "metadata": {},
   "outputs": [
    {
     "data": {
      "text/plain": [
       "array([[0.14933057],\n",
       "       [0.14898328],\n",
       "       [0.14866114],\n",
       "       ...,\n",
       "       [0.5556968 ],\n",
       "       [0.56375015],\n",
       "       [0.5702168 ]], dtype=float32)"
      ]
     },
     "execution_count": 49,
     "metadata": {},
     "output_type": "execute_result"
    }
   ],
   "source": [
    "y_predicted"
   ]
  },
  {
   "cell_type": "code",
   "execution_count": 50,
   "id": "3ef5a049",
   "metadata": {},
   "outputs": [
    {
     "data": {
      "text/plain": [
       "array([0.00891476])"
      ]
     },
     "execution_count": 50,
     "metadata": {},
     "output_type": "execute_result"
    }
   ],
   "source": [
    "scaler.scale_"
   ]
  },
  {
   "cell_type": "code",
   "execution_count": 51,
   "id": "32fe1cc2",
   "metadata": {},
   "outputs": [],
   "source": [
    "scale_fact = 1/0.00891476\n",
    "y_predicted = y_predicted * scale_fact\n",
    "Y_test =  Y_test * scale_fact"
   ]
  },
  {
   "cell_type": "code",
   "execution_count": 52,
   "id": "100fd3d7",
   "metadata": {},
   "outputs": [
    {
     "data": {
      "text/plain": [
       "array([ 5.56500357,  6.31250128,  6.89800402, ..., 63.03001536,\n",
       "       61.75001633, 62.02001302])"
      ]
     },
     "execution_count": 52,
     "metadata": {},
     "output_type": "execute_result"
    }
   ],
   "source": [
    "Y_test"
   ]
  },
  {
   "cell_type": "code",
   "execution_count": 53,
   "id": "582eeccd",
   "metadata": {},
   "outputs": [
    {
     "data": {
      "text/plain": [
       "array([[16.750935],\n",
       "       [16.711979],\n",
       "       [16.675842],\n",
       "       ...,\n",
       "       [62.33446 ],\n",
       "       [63.237835],\n",
       "       [63.96322 ]], dtype=float32)"
      ]
     },
     "execution_count": 53,
     "metadata": {},
     "output_type": "execute_result"
    }
   ],
   "source": [
    "y_predicted"
   ]
  },
  {
   "cell_type": "code",
   "execution_count": 54,
   "id": "5afc1f13",
   "metadata": {},
   "outputs": [
    {
     "data": {
      "text/plain": [
       "1407"
      ]
     },
     "execution_count": 54,
     "metadata": {},
     "output_type": "execute_result"
    }
   ],
   "source": [
    "len(y_predicted)"
   ]
  },
  {
   "cell_type": "code",
   "execution_count": 55,
   "id": "5d1d7dfd",
   "metadata": {},
   "outputs": [
    {
     "data": {
      "image/png": "[encoded data removed]",
      "text/plain": [
       "<Figure size 864x432 with 1 Axes>"
      ]
     },
     "metadata": {},
     "output_type": "display_data"
    }
   ],
   "source": [
    "plt.figure(figsize = (12,6))\n",
    "plt.title('Google company - Model prediciton comparison')\n",
    "plt.plot(Y_test  , 'green' , label = 'Original price')\n",
    "plt.plot(y_predicted , 'r' , label = 'Predicted price')\n",
    "plt.xlabel('Time', fontsize=18)\n",
    "plt.ylabel('Price', fontsize=18)\n",
    "plt.legend()\n",
    "plt.show()"
   ]
  },
  {
   "cell_type": "code",
   "execution_count": 144,
   "id": "076a706b",
   "metadata": {},
   "outputs": [
    {
     "data": {
      "text/plain": [
       "1407"
      ]
     },
     "execution_count": 144,
     "metadata": {},
     "output_type": "execute_result"
    }
   ],
   "source": [
    "len(testing_data)"
   ]
  },
  {
   "cell_type": "code",
   "execution_count": 145,
   "id": "62b7ed17",
   "metadata": {},
   "outputs": [
    {
     "data": {
      "text/plain": [
       "3280"
      ]
     },
     "execution_count": 145,
     "metadata": {},
     "output_type": "execute_result"
    }
   ],
   "source": [
    "len(training_data)"
   ]
  },
  {
   "cell_type": "code",
   "execution_count": 146,
   "id": "60c4a00e",
   "metadata": {},
   "outputs": [
    {
     "data": {
      "text/plain": [
       "(150, 1)"
      ]
     },
     "execution_count": 146,
     "metadata": {},
     "output_type": "execute_result"
    }
   ],
   "source": [
    "X_input = testing_data[1257:]\n",
    "X_input.shape"
   ]
  },
  {
   "cell_type": "code",
   "execution_count": 147,
   "id": "78d3fa05",
   "metadata": {},
   "outputs": [
    {
     "data": {
      "text/html": [
       "<div>\n",
       "<style scoped>\n",
       "    .dataframe tbody tr th:only-of-type {\n",
       "        vertical-align: middle;\n",
       "    }\n",
       "\n",
       "    .dataframe tbody tr th {\n",
       "        vertical-align: top;\n",
       "    }\n",
       "\n",
       "    .dataframe thead th {\n",
       "        text-align: right;\n",
       "    }\n",
       "</style>\n",
       "<table border=\"1\" class=\"dataframe\">\n",
       "  <thead>\n",
       "    <tr style=\"text-align: right;\">\n",
       "      <th></th>\n",
       "      <th>Open</th>\n",
       "    </tr>\n",
       "  </thead>\n",
       "  <tbody>\n",
       "    <tr>\n",
       "      <th>4537</th>\n",
       "      <td>115.809998</td>\n",
       "    </tr>\n",
       "    <tr>\n",
       "      <th>4538</th>\n",
       "      <td>110.779999</td>\n",
       "    </tr>\n",
       "    <tr>\n",
       "      <th>4539</th>\n",
       "      <td>111.029999</td>\n",
       "    </tr>\n",
       "    <tr>\n",
       "      <th>4540</th>\n",
       "      <td>111.629997</td>\n",
       "    </tr>\n",
       "    <tr>\n",
       "      <th>4541</th>\n",
       "      <td>109.199997</td>\n",
       "    </tr>\n",
       "    <tr>\n",
       "      <th>...</th>\n",
       "      <td>...</td>\n",
       "    </tr>\n",
       "    <tr>\n",
       "      <th>4682</th>\n",
       "      <td>105.320000</td>\n",
       "    </tr>\n",
       "    <tr>\n",
       "      <th>4683</th>\n",
       "      <td>103.000000</td>\n",
       "    </tr>\n",
       "    <tr>\n",
       "      <th>4684</th>\n",
       "      <td>102.720001</td>\n",
       "    </tr>\n",
       "    <tr>\n",
       "      <th>4685</th>\n",
       "      <td>101.440002</td>\n",
       "    </tr>\n",
       "    <tr>\n",
       "      <th>4686</th>\n",
       "      <td>101.709999</td>\n",
       "    </tr>\n",
       "  </tbody>\n",
       "</table>\n",
       "<p>150 rows × 1 columns</p>\n",
       "</div>"
      ],
      "text/plain": [
       "            Open\n",
       "4537  115.809998\n",
       "4538  110.779999\n",
       "4539  111.029999\n",
       "4540  111.629997\n",
       "4541  109.199997\n",
       "...          ...\n",
       "4682  105.320000\n",
       "4683  103.000000\n",
       "4684  102.720001\n",
       "4685  101.440002\n",
       "4686  101.709999\n",
       "\n",
       "[150 rows x 1 columns]"
      ]
     },
     "execution_count": 147,
     "metadata": {},
     "output_type": "execute_result"
    }
   ],
   "source": [
    "X_input"
   ]
  },
  {
   "cell_type": "code",
   "execution_count": 148,
   "id": "269a102b",
   "metadata": {},
   "outputs": [],
   "source": [
    "# from sklearn.preprocessing import MinMaxScaler\n",
    "scaler = MinMaxScaler(feature_range=(0,1))\n",
    "# temp_input = scaler.fit_transform(temp_input)\n",
    "last_150_days_scaled = scaler.fit_transform(X_input)"
   ]
  },
  {
   "cell_type": "code",
   "execution_count": 149,
   "id": "7eb9dcae",
   "metadata": {},
   "outputs": [
    {
     "data": {
      "text/plain": [
       "array([[1.        ],\n",
       "       [0.83399341],\n",
       "       [0.84224424],\n",
       "       [0.86204617],\n",
       "       [0.78184813],\n",
       "       [0.85247518],\n",
       "       [0.74669978],\n",
       "       [0.73432354],\n",
       "       [0.78118818],\n",
       "       [0.80990114],\n",
       "       [0.87392738],\n",
       "       [0.77161719],\n",
       "       [0.65775589],\n",
       "       [0.64356445],\n",
       "       [0.57623768],\n",
       "       [0.56204625],\n",
       "       [0.57326725],\n",
       "       [0.55214516],\n",
       "       [0.4600659 ],\n",
       "       [0.48019794],\n",
       "       [0.43234325],\n",
       "       [0.47524765],\n",
       "       [0.41287117],\n",
       "       [0.45511561],\n",
       "       [0.40330043],\n",
       "       [0.38646868],\n",
       "       [0.51254129],\n",
       "       [0.50099018],\n",
       "       [0.52772278],\n",
       "       [0.49967002],\n",
       "       [0.47326728],\n",
       "       [0.42046204],\n",
       "       [0.42112199],\n",
       "       [0.34389438],\n",
       "       [0.49884489],\n",
       "       [0.46237613],\n",
       "       [0.60825093],\n",
       "       [0.50132004],\n",
       "       [0.50528052],\n",
       "       [0.4273927 ],\n",
       "       [0.54719461],\n",
       "       [0.58712883],\n",
       "       [0.37128718],\n",
       "       [0.29042894],\n",
       "       [0.23168309],\n",
       "       [0.33894383],\n",
       "       [0.33267313],\n",
       "       [0.1782179 ],\n",
       "       [0.02755773],\n",
       "       [0.        ],\n",
       "       [0.06039586],\n",
       "       [0.12046211],\n",
       "       [0.1001649 ],\n",
       "       [0.22541238],\n",
       "       [0.30363031],\n",
       "       [0.32970295],\n",
       "       [0.43432337],\n",
       "       [0.41287117],\n",
       "       [0.38514851],\n",
       "       [0.44554462],\n",
       "       [0.39768968],\n",
       "       [0.35148525],\n",
       "       [0.39042891],\n",
       "       [0.42755763],\n",
       "       [0.38580847],\n",
       "       [0.3462046 ],\n",
       "       [0.31716178],\n",
       "       [0.5244225 ],\n",
       "       [0.45742583],\n",
       "       [0.47211229],\n",
       "       [0.46732667],\n",
       "       [0.37161704],\n",
       "       [0.33597366],\n",
       "       [0.27689771],\n",
       "       [0.25016486],\n",
       "       [0.41452143],\n",
       "       [0.33102311],\n",
       "       [0.2650165 ],\n",
       "       [0.18778864],\n",
       "       [0.17722759],\n",
       "       [0.10627068],\n",
       "       [0.13927399],\n",
       "       [0.11287124],\n",
       "       [0.06963699],\n",
       "       [0.12541241],\n",
       "       [0.06567651],\n",
       "       [0.05016491],\n",
       "       [0.06122099],\n",
       "       [0.14257427],\n",
       "       [0.18151818],\n",
       "       [0.08448838],\n",
       "       [0.06105606],\n",
       "       [0.1216171 ],\n",
       "       [0.03993397],\n",
       "       [0.15016489],\n",
       "       [0.22739275],\n",
       "       [0.19861382],\n",
       "       [0.23993392],\n",
       "       [0.24521457],\n",
       "       [0.19405934],\n",
       "       [0.34455434],\n",
       "       [0.44950486],\n",
       "       [0.46336644],\n",
       "       [0.38580847],\n",
       "       [0.4214521 ],\n",
       "       [0.44686478],\n",
       "       [0.43679877],\n",
       "       [0.40759077],\n",
       "       [0.46963689],\n",
       "       [0.7023103 ],\n",
       "       [0.5940595 ],\n",
       "       [0.56683162],\n",
       "       [0.59801973],\n",
       "       [0.5669968 ],\n",
       "       [0.49603964],\n",
       "       [0.33762367],\n",
       "       [0.3135314 ],\n",
       "       [0.30198029],\n",
       "       [0.30462037],\n",
       "       [0.33102311],\n",
       "       [0.31551152],\n",
       "       [0.25511541],\n",
       "       [0.2120131 ],\n",
       "       [0.21848172],\n",
       "       [0.13597346],\n",
       "       [0.15115495],\n",
       "       [0.13300328],\n",
       "       [0.15346542],\n",
       "       [0.14356433],\n",
       "       [0.23861376],\n",
       "       [0.2920792 ],\n",
       "       [0.32706262],\n",
       "       [0.29356429],\n",
       "       [0.29636954],\n",
       "       [0.23069303],\n",
       "       [0.16683172],\n",
       "       [0.24950491],\n",
       "       [0.2650165 ],\n",
       "       [0.36501648],\n",
       "       [0.50594048],\n",
       "       [0.51320125],\n",
       "       [0.54356448],\n",
       "       [0.64785479],\n",
       "       [0.67260727],\n",
       "       [0.66765673],\n",
       "       [0.6537954 ],\n",
       "       [0.57722774],\n",
       "       [0.56798685],\n",
       "       [0.52574266],\n",
       "       [0.53465345]])"
      ]
     },
     "execution_count": 149,
     "metadata": {},
     "output_type": "execute_result"
    }
   ],
   "source": [
    "last_150_days_scaled"
   ]
  },
  {
   "cell_type": "code",
   "execution_count": 150,
   "id": "7638c7b5",
   "metadata": {},
   "outputs": [
    {
     "name": "stdout",
     "output_type": "stream",
     "text": [
      "1/1 [==============================] - 0s 47ms/step\n",
      "Opening Price of tomorrow:[[100.964806]]\n"
     ]
    }
   ],
   "source": [
    "## Predicting tomorrow stock price\n",
    "x_test = []\n",
    "x_test.append(last_150_days_scaled)\n",
    "x_test = np.array(x_test)\n",
    "x_test = np.reshape(x_test, (x_test.shape[0], x_test.shape[1],1))\n",
    "pred_price = model.predict(x_test)\n",
    "pred_price=scaler.inverse_transform(pred_price)\n",
    "print(f'Opening Price of tomorrow:{pred_price}')"
   ]
  },
  {
   "cell_type": "code",
   "execution_count": null,
   "id": "cf7f2d69",
   "metadata": {},
   "outputs": [],
   "source": []
  }
 ],
 "metadata": {
  "kernelspec": {
   "display_name": "Python 3 (ipykernel)",
   "language": "python",
   "name": "python3"
  },
  "language_info": {
   "codemirror_mode": {
    "name": "ipython",
    "version": 3
   },
   "file_extension": ".py",
   "mimetype": "text/x-python",
   "name": "python",
   "nbconvert_exporter": "python",
   "pygments_lexer": "ipython3",
   "version": "3.9.12"
  }
 },
 "nbformat": 4,
 "nbformat_minor": 5
}
